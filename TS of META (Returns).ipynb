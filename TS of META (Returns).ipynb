pip install pandas numpy matplotlib seaborn plotly statsmodels sktime pmdarima tensorflow
import pandas as pd
import numpy as np
import matplotlib.pyplot as plt
import seaborn as sns
import plotly.express as px
import statsmodels.api as sm
from sktime.forecasting.model_selection import temporal_train_test_split
from sktime.forecasting.arima import AutoARIMA
from pmdarima import auto_arima
import pandas as pd
import numpy as np
import matplotlib.pyplot as plt
from sklearn.metrics import mean_squared_error, mean_absolute_error, r2_score
from statsmodels.tsa.arima.model import ARIMA

# Load the data
data = pd.read_excel('/Users/Jestin/Desktop/Finance/Quant Finance/Meta/Meta 21_22_23.xlsx', sheet_name='Sheet1')

# Convert 'Date' column to datetime format
data['Date'] = pd.to_datetime(data['Date'])

# Basic Summary
print("Data Summary:")
print(data.info())
print("\nData Description:")
print(data.describe())

# Remove extra space from columns
data.columns = data.columns.str.strip()

# Distribution of Adjusted Close Prices
plt.figure(figsize=(10, 5))
sns.histplot(data['Return'], bins=30, kde=True, color='blue')
plt.title('Distribution of Return')
plt.xlabel('Return')
plt.show()

# Distribution of Open Prices
plt.figure(figsize=(10, 5))
sns.histplot(data['Open'], bins=30, kde=True, color='blue')
plt.title('Distribution of Open Prices')  # Corrected title
plt.xlabel('Open Price')
plt.show()

# Volume vs Adjusted Close Price
plt.figure(figsize=(12, 6))
sns.scatterplot(x=data['Volume'], y=data['Return'])
plt.title('Volume vs Adjusted Close Price')
plt.xlabel('Volume')
plt.ylabel('Return')
plt.show()

# Visualize stock price over time
plt.figure(figsize=(14, 7))
plt.plot(data['Date'], data['Return'], label='Return', color='blue')
plt.title('Meta Returns Over Time')
plt.xlabel('Date')
plt.ylabel('Returns')
plt.legend()
plt.show()

# Checking for Seasonality and Trends
from statsmodels.tsa.seasonal import seasonal_decompose

# Decompose Return column (additive model)
decomposition_adj_close = seasonal_decompose(data['Return'], model='additive', period=365)
decomposition_adj_close.plot()
plt.show()

# Decompose Open column (additive model)
decomposition_open = seasonal_decompose(data['Open'], model='additive', period=365)
decomposition_open.plot()
plt.show()

# Earnings dates (ensure they fall within the data range)
earnings_dates = [
    '2023-12-31', '2023-09-30', '2023-06-30', '2023-03-31',
    '2022-12-31', '2022-09-30', '2022-06-30', '2022-03-31',
    '2021-12-31', '2021-09-30', '2021-06-30', '2021-03-31'
]

earnings_dates = pd.to_datetime(earnings_dates)

# Insert a number for 'window_before_after'

# Adj Close Price

# Extracting the data for windows around earnings announcements
window_before_after = 10 # 10 days before and after earnings
price_windows = []

for earnings_date in earnings_dates:
    start_date = earnings_date - pd.Timedelta(days=window_before_after)
    end_date = earnings_date + pd.Timedelta(days=window_before_after)
    
    # Extract the stock price data for this window, using 'Date' as the column name
    window_data = data[(data['Date'] >= start_date) & (data['Date'] <= end_date)]
    price_windows.append(window_data)

# Combine all the windows into one DataFrame
price_windows_df = pd.concat(price_windows)

# Optionally, reset index for cleaner DataFrame
price_windows_df = price_windows_df.reset_index(drop=True)

# Display the combined price window DataFrame
print(price_windows_df)

# Plot stock price before and after earnings
plt.figure(figsize=(10, 6))

for earnings_date in earnings_dates:
    window_data = price_windows_df[price_windows_df['Date'].between(earnings_date - pd.Timedelta(days=window_before_after),
                                                                     earnings_date + pd.Timedelta(days=window_before_after))]
    plt.plot(window_data['Date'], window_data['Return'], label=f'Earnings Date: {earnings_date.date()}')

plt.title('Returns Before and After Earnings for Meta')
plt.xlabel('Date')
plt.ylabel('Stock Price (Return)')
plt.legend()
plt.show()
import pandas as pd
import numpy as np
import matplotlib.pyplot as plt
from pandas.plotting import lag_plot

# Create lag plots
def plot_lag(data, lags=10):
    plt.figure(figsize=(15, 10))
    for i in range(1, lags + 1):
        plt.subplot(3, 4, i)  # Grid of subplots, adjust as needed
        lag_plot(data['Return'], lag=i)
        plt.title(f'Lag {i}')
    plt.tight_layout()
    plt.show()

# Plot lag plots for the Adjusted Close price column
plot_lag(data, lags=10)
from statsmodels.graphics.tsaplots import plot_acf

# Plot Autocorrelation
def plot_autocorrelation(data, lags=40):
    plt.figure(figsize=(10, 6))
    plot_acf(data['Return'], lags=lags)
    plt.title(f'Autocorrelation Function (ACF) of Returns')
    plt.xlabel('Lag')
    plt.ylabel('Autocorrelation')
    plt.show()

# Plot the autocorrelation for the Adjusted Close column with 40 lags
plot_autocorrelation(data, lags=40)

from statsmodels.tsa.stattools import adfuller

result = adfuller(data['Return'])
print(f'ADF Statistic: {result[0]}')
print(f'p-value: {result[1]}')
from statsmodels.tsa.stattools import adfuller

adf_test = adfuller(data['Return'].dropna())
print(f"ADF Statistic: {adf_test[0]}")
print(f"p-value: {adf_test[1]}")

if adf_test[1] < 0.05:
    print("Data is stationary.")
else:
    print("Data is not stationary. Differencing may be required.")
# Fit ARIMA model on the differenced data
from statsmodels.tsa.arima.model import ARIMA
import matplotlib.pyplot as plt

# Assuming 'data' is your dataframe and 'Adj Close Diff' is the differenced column
arima_model = ARIMA(data['Return'].dropna(), order=(2, 0, 2))  # ARIMA(0, 1, 0)
arima_result = arima_model.fit()

# Get the predicted values from the ARIMA model
predicted_values = arima_result.fittedvalues

# Plotting the actual vs predicted values
plt.figure(figsize=(12, 6))
plt.plot(data['Return'], label='Actual', color='blue')
plt.plot(predicted_values, label='Fitted', color='red')
plt.title('Actual vs Predicted - ARIMA(0, 1, 0) Model Returns of META')
plt.legend()
plt.show()

# Print model summary
print(arima_result.summary())

from statsmodels.graphics.tsaplots import plot_acf, plot_pacf
import matplotlib.pyplot as plt

# Assuming 'data' is your dataframe and 'Return' is the column with returns data
# Ensure that the data is differenced if needed and drop NaN values
returns = data['Return'].dropna()

# Plot the ACF (Autocorrelation Function)
plt.figure(figsize=(12, 6))
plot_acf(returns, lags=40, title='Autocorrelation (ACF) of Returns')
plt.show()

# Plot the PACF (Partial Autocorrelation Function)
plt.figure(figsize=(12, 6))
plot_pacf(returns, lags=40, title='Partial Autocorrelation (PACF) of Returns', method='ywm')
plt.show()
